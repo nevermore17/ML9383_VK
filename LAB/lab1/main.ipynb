{
 "cells": [
  {
   "cell_type": "code",
   "execution_count": 3,
   "metadata": {
    "collapsed": true
   },
   "outputs": [
    {
     "name": "stdout",
     "output_type": "stream",
     "text": [
      "      age  creatinine_phosphokinase  ejection_fraction  platelets  \\\n",
      "0    75.0                       582                 20  265000.00   \n",
      "1    55.0                      7861                 38  263358.03   \n",
      "2    65.0                       146                 20  162000.00   \n",
      "3    50.0                       111                 20  210000.00   \n",
      "4    65.0                       160                 20  327000.00   \n",
      "..    ...                       ...                ...        ...   \n",
      "294  62.0                        61                 38  155000.00   \n",
      "295  55.0                      1820                 38  270000.00   \n",
      "296  45.0                      2060                 60  742000.00   \n",
      "297  45.0                      2413                 38  140000.00   \n",
      "298  50.0                       196                 45  395000.00   \n",
      "\n",
      "     serum_creatinine  serum_sodium  \n",
      "0                 1.9           130  \n",
      "1                 1.1           136  \n",
      "2                 1.3           129  \n",
      "3                 1.9           137  \n",
      "4                 2.7           116  \n",
      "..                ...           ...  \n",
      "294               1.1           143  \n",
      "295               1.2           139  \n",
      "296               0.8           138  \n",
      "297               1.4           140  \n",
      "298               1.6           136  \n",
      "\n",
      "[299 rows x 6 columns]\n"
     ]
    }
   ],
   "source": [
    "import pandas as pd\n",
    "import numpy as np\n",
    "import pathlib\n",
    "import os\n",
    "from sklearn import preprocessing\n",
    "import matplotlib.pyplot as plt\n",
    "\n",
    "path = pathlib.Path(\"data\",\"heart_failure_clinical_records_dataset.csv\" )\n",
    "df = pd.read_csv(path)\n",
    "df = df.drop(columns = ['anaemia','diabetes','high_blood_pressure','sex','smoking','time','DEATH_EVENT'])\n",
    "print(df) #Вывод датафрейма с данными для лаб. работы. Должно быть 299 наблюдений и 6 признаков\n"
   ]
  }
 ],
 "metadata": {
  "kernelspec": {
   "display_name": "Python 3",
   "language": "python",
   "name": "python3"
  },
  "language_info": {
   "codemirror_mode": {
    "name": "ipython",
    "version": 2
   },
   "file_extension": ".py",
   "mimetype": "text/x-python",
   "name": "python",
   "nbconvert_exporter": "python",
   "pygments_lexer": "ipython2",
   "version": "2.7.6"
  }
 },
 "nbformat": 4,
 "nbformat_minor": 0
}
